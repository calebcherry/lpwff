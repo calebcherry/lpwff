{
 "cells": [
  {
   "cell_type": "markdown",
   "metadata": {},
   "source": [
    "### Advanced List Operations and Methods"
   ]
  },
  {
   "cell_type": "code",
   "execution_count": 1,
   "metadata": {},
   "outputs": [
    {
     "data": {
      "text/plain": [
       "[1, 2, 3, 4, 5, 6, 7, 8, 9, 10, 11, 12, 13, 14, 15, 16, 17, 18, 19, 20]"
      ]
     },
     "execution_count": 1,
     "metadata": {},
     "output_type": "execute_result"
    }
   ],
   "source": [
    "redzone_yardlines = []\n",
    "for yardline in range(1,21):\n",
    "    redzone_yardlines.append(yardline)\n",
    "\n",
    "redzone_yardlines"
   ]
  },
  {
   "cell_type": "markdown",
   "metadata": {},
   "source": [
    "### List Comprehensions\n",
    "\n",
    "What should be a simpler way of performing the operation above, is by using list comprehension."
   ]
  },
  {
   "cell_type": "code",
   "execution_count": 2,
   "metadata": {},
   "outputs": [
    {
     "data": {
      "text/plain": [
       "[1, 2, 3, 4, 5, 6, 7, 8, 9, 10, 11, 12, 13, 14, 15, 16, 17, 18, 19, 20]"
      ]
     },
     "execution_count": 2,
     "metadata": {},
     "output_type": "execute_result"
    }
   ],
   "source": [
    "redzone_yardlines = [yardline for yardline in range(1,21)]\n",
    "\n",
    "redzone_yardlines"
   ]
  },
  {
   "cell_type": "code",
   "execution_count": 3,
   "metadata": {},
   "outputs": [],
   "source": [
    "players = [{\n",
    "    'name': 'Julio Jones',\n",
    "    'catches': 100,\n",
    "    'yds': 1000,\n",
    "    'td': 12\n",
    "}, {\n",
    "    'name': 'Deandre Hopkins',\n",
    "    'catches': 120,\n",
    "    'yds': 1230,\n",
    "    'td': 13\n",
    "}]"
   ]
  },
  {
   "cell_type": "code",
   "execution_count": 5,
   "metadata": {},
   "outputs": [
    {
     "name": "stdout",
     "output_type": "stream",
     "text": [
      "296.5\n"
     ]
    }
   ],
   "source": [
    "fantasy_points = []\n",
    "\n",
    "for player in players:\n",
    "    points_scored = player.get('catches', 0) + player.get('yds')*0.1 + player.get('td')*6\n",
    "    fantasy_points.append(points_scored)\n",
    "\n",
    "fantasy_points\n",
    "print(sum(fantasy_points)/len(fantasy_points))"
   ]
  },
  {
   "cell_type": "code",
   "execution_count": null,
   "metadata": {},
   "outputs": [],
   "source": [
    "# Same use, but better. Here is a function and a list comprehension doing the same work.\n",
    "def calc_fantasy_points(player):\n",
    "    return player.get('catches', 0) + player.get('yds', 0)*0.1 + player.get('td', 0)*6\n",
    "\n",
    "fantasy_points = [calc_fantasy_points(player) for player in players]\n",
    "sum(fantasy_points)/len(fantasy_points)"
   ]
  },
  {
   "cell_type": "markdown",
   "metadata": {},
   "source": [
    "###  Anonymous functions, lambda, map, filter"
   ]
  },
  {
   "cell_type": "code",
   "execution_count": 7,
   "metadata": {},
   "outputs": [
    {
     "data": {
      "text/plain": [
       "[5.0, 7.5, 17.0, 11.5]"
      ]
     },
     "execution_count": 7,
     "metadata": {},
     "output_type": "execute_result"
    }
   ],
   "source": [
    "catches = [10, 15, 34, 23]\n",
    "\n",
    "def divide_by_two(x):\n",
    "    return x/2\n",
    "\n",
    "half_ppr_values = map(divide_by_two, catches)\n",
    "half_ppr_values = list(half_ppr_values)\n",
    "\n",
    "half_ppr_values"
   ]
  },
  {
   "cell_type": "code",
   "execution_count": null,
   "metadata": {},
   "outputs": [],
   "source": [
    "# same as above but lambda \n",
    "catches = [10, 15, 34, 23]\n",
    "\n",
    "half_ppr_values = map(lambda x: x/2, catches)\n",
    "half_ppr_values = list(half_ppr_values)\n",
    "\n",
    "half_ppr_value"
   ]
  },
  {
   "cell_type": "markdown",
   "metadata": {},
   "source": [
    "### Zip Method. \n",
    "\n",
    "Packages two variables into key/value pairs."
   ]
  },
  {
   "cell_type": "code",
   "execution_count": 8,
   "metadata": {},
   "outputs": [
    {
     "data": {
      "text/plain": [
       "{'Derrick Henry': 18, 'Aaron Jones': 49, 'Christian McCaffrey': 116}"
      ]
     },
     "execution_count": 8,
     "metadata": {},
     "output_type": "execute_result"
    }
   ],
   "source": [
    "player_names = ['Derrick Henry', 'Aaron Jones', 'Christian McCaffrey']\n",
    "receptions = [18, 49, 116]\n",
    "\n",
    "player_receptions = dict(zip(player_names, receptions))\n",
    "\n",
    "player_receptions"
   ]
  },
  {
   "cell_type": "code",
   "execution_count": null,
   "metadata": {},
   "outputs": [],
   "source": []
  }
 ],
 "metadata": {
  "kernelspec": {
   "display_name": "Python 3.10.4 64-bit ('3.10.4')",
   "language": "python",
   "name": "python3"
  },
  "language_info": {
   "codemirror_mode": {
    "name": "ipython",
    "version": 3
   },
   "file_extension": ".py",
   "mimetype": "text/x-python",
   "name": "python",
   "nbconvert_exporter": "python",
   "pygments_lexer": "ipython3",
   "version": "3.10.4"
  },
  "orig_nbformat": 4,
  "vscode": {
   "interpreter": {
    "hash": "4bc9a55422c3a98b678fa7d21a3a922189d3489b447dfa1afc1f67ee6a3c2656"
   }
  }
 },
 "nbformat": 4,
 "nbformat_minor": 2
}
